{
 "cells": [
  {
   "cell_type": "code",
   "execution_count": 2,
   "metadata": {},
   "outputs": [
    {
     "name": "stdout",
     "output_type": "stream",
     "text": [
      "Hello!\n"
     ]
    }
   ],
   "source": [
    "#Introduction to functions\n",
    "#defining a fun using keyword - def #greeting an user\n",
    "\n",
    "def greet_user():\n",
    "    \"\"\"Display a simpe greeting\"\"\"\n",
    "    #doc string used to intimate the task of the functions\n",
    "    print(\"Hello!\")\n",
    "    \n",
    "greet_user()    \n",
    "#calling the above function"
   ]
  },
  {
   "cell_type": "code",
   "execution_count": 4,
   "metadata": {},
   "outputs": [],
   "source": [
    "#Passing information to a function\n",
    "def greet_user(username):\n",
    "    \"\"\"Display greeting to the user\"\"\"\n",
    "    print(f\"Welcomeback,{username.title()}!\")"
   ]
  },
  {
   "cell_type": "code",
   "execution_count": 5,
   "metadata": {},
   "outputs": [
    {
     "name": "stdout",
     "output_type": "stream",
     "text": [
      "Welcomeback,Sri!\n"
     ]
    }
   ],
   "source": [
    "#Function Calling by passing arguments\n",
    "greet_user('Sri')"
   ]
  },
  {
   "cell_type": "code",
   "execution_count": 6,
   "metadata": {},
   "outputs": [
    {
     "name": "stdout",
     "output_type": "stream",
     "text": [
      "Welcomeback,Shakthi!\n"
     ]
    }
   ],
   "source": [
    "greet_user(\"Shakthi\")"
   ]
  },
  {
   "cell_type": "code",
   "execution_count": 21,
   "metadata": {},
   "outputs": [
    {
     "name": "stdout",
     "output_type": "stream",
     "text": [
      "\n",
      "I have a Dog\n",
      "\n",
      "My Dog's name is Bruno\n"
     ]
    }
   ],
   "source": [
    "#Types of arguments\n",
    "#1.positioned args\n",
    "#2.keyword args\n",
    "\n",
    "def describe_pet(animal_type,pet_name):\n",
    "    \"\"\"Display info about the pet\"\"\"\n",
    "    print(f\"\\nI have a {animal_type}\")\n",
    "    print(f\"\\nMy {animal_type}'s name is {pet_name.title()}\")\n",
    "    \n",
    "#multiple runtime arguments\n",
    "describe_pet('Dog','Bruno')"
   ]
  },
  {
   "cell_type": "code",
   "execution_count": 19,
   "metadata": {},
   "outputs": [
    {
     "name": "stdout",
     "output_type": "stream",
     "text": [
      "\n",
      "I have acat\n",
      "\n",
      "My cat's name is Snowbell\n"
     ]
    }
   ],
   "source": [
    "#Passing arguments with keywords attached to it\n",
    "describe_pet(pet_name='snowbell',animal_type='cat')\n"
   ]
  },
  {
   "cell_type": "code",
   "execution_count": 22,
   "metadata": {},
   "outputs": [
    {
     "name": "stdout",
     "output_type": "stream",
     "text": [
      "\n",
      "I have a parrot\n",
      "\n",
      "My parrot's name is Smily\n"
     ]
    }
   ],
   "source": [
    "describe_pet(pet_name='smily',animal_type='parrot')"
   ]
  },
  {
   "cell_type": "code",
   "execution_count": null,
   "metadata": {},
   "outputs": [],
   "source": []
  }
 ],
 "metadata": {
  "kernelspec": {
   "display_name": "Python 3",
   "language": "python",
   "name": "python3"
  },
  "language_info": {
   "codemirror_mode": {
    "name": "ipython",
    "version": 3
   },
   "file_extension": ".py",
   "mimetype": "text/x-python",
   "name": "python",
   "nbconvert_exporter": "python",
   "pygments_lexer": "ipython3",
   "version": "3.7.4"
  }
 },
 "nbformat": 4,
 "nbformat_minor": 2
}
