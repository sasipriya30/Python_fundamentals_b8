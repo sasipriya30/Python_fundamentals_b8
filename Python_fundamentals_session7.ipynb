{
 "cells": [
  {
   "cell_type": "code",
   "execution_count": 1,
   "metadata": {},
   "outputs": [
    {
     "name": "stdout",
     "output_type": "stream",
     "text": [
      "green\n"
     ]
    }
   ],
   "source": [
    "#Introduction to dictionary datatype\n",
    "#DICT----mutable datatypeto value\n",
    "#collection of Key_Value pairs---every key is connected to a value\n",
    "#use {} to define {DICT}\n",
    "\n",
    "alien={'color':'green','points':'5'}\n",
    "#color--key green--value\n",
    "print(alien['color'])"
   ]
  },
  {
   "cell_type": "code",
   "execution_count": 2,
   "metadata": {},
   "outputs": [
    {
     "name": "stdout",
     "output_type": "stream",
     "text": [
      "5\n"
     ]
    }
   ],
   "source": [
    "print(alien['points'])"
   ]
  },
  {
   "cell_type": "code",
   "execution_count": 3,
   "metadata": {},
   "outputs": [
    {
     "name": "stdout",
     "output_type": "stream",
     "text": [
      "You just earned 5 points!\n"
     ]
    }
   ],
   "source": [
    "#assigning to other variable\n",
    "new_points=alien['points']\n",
    "print(f'You just earned {new_points} points!')"
   ]
  },
  {
   "cell_type": "code",
   "execution_count": 7,
   "metadata": {},
   "outputs": [
    {
     "name": "stdout",
     "output_type": "stream",
     "text": [
      "{'color': 'yellow', 'points': '5'}\n"
     ]
    }
   ],
   "source": [
    "#adding or modifying key value pairs\n",
    "alien['color']='yellow'\n",
    "print(alien)"
   ]
  },
  {
   "cell_type": "code",
   "execution_count": 8,
   "metadata": {},
   "outputs": [
    {
     "name": "stdout",
     "output_type": "stream",
     "text": [
      "{'color': 'yellow', 'points': '5', 'x_pos': 0, 'y_pos': 25}\n"
     ]
    }
   ],
   "source": [
    "alien['x_pos']=0\n",
    "alien['y_pos']=25\n",
    "print(alien)"
   ]
  },
  {
   "cell_type": "code",
   "execution_count": 10,
   "metadata": {},
   "outputs": [
    {
     "name": "stdout",
     "output_type": "stream",
     "text": [
      "the alien is now yellow color!!\n"
     ]
    }
   ],
   "source": [
    "print(f\"the alien is now {alien['color']} color!!\")"
   ]
  },
  {
   "cell_type": "code",
   "execution_count": 11,
   "metadata": {},
   "outputs": [
    {
     "name": "stdout",
     "output_type": "stream",
     "text": [
      "{'color': 'yellow', 'points': '5', 'y_pos': 25}\n"
     ]
    }
   ],
   "source": [
    "#Removing the elements in the dict\n",
    "del alien['x_pos']\n",
    "print(alien)"
   ]
  },
  {
   "cell_type": "code",
   "execution_count": 12,
   "metadata": {},
   "outputs": [
    {
     "name": "stdout",
     "output_type": "stream",
     "text": [
      "swetha fav choice of programming is Python\n"
     ]
    }
   ],
   "source": [
    "fav_lang={'sasi':'c','murali':'java','swetha':'python','meena':'swift'}\n",
    "#\n",
    "language=fav_lang['swetha'].title()\n",
    "print(f\"swetha fav choice of programming is {language}\")\n",
    "#\n",
    "#the above two lines can be incorporated as single line"
   ]
  },
  {
   "cell_type": "code",
   "execution_count": 13,
   "metadata": {},
   "outputs": [
    {
     "name": "stdout",
     "output_type": "stream",
     "text": [
      "swetha fav choice of programming is Python\n"
     ]
    }
   ],
   "source": [
    "print(f\"swetha fav choice of programming is {fav_lang['swetha'].title()}\")"
   ]
  },
  {
   "cell_type": "code",
   "execution_count": 14,
   "metadata": {},
   "outputs": [
    {
     "ename": "SyntaxError",
     "evalue": "invalid syntax (<ipython-input-14-f603da9815a6>, line 4)",
     "output_type": "error",
     "traceback": [
      "\u001b[1;36m  File \u001b[1;32m\"<ipython-input-14-f603da9815a6>\"\u001b[1;36m, line \u001b[1;32m4\u001b[0m\n\u001b[1;33m    'first_name':'robert'\u001b[0m\n\u001b[1;37m                ^\u001b[0m\n\u001b[1;31mSyntaxError\u001b[0m\u001b[1;31m:\u001b[0m invalid syntax\n"
     ]
    }
   ],
   "source": [
    "#looping through a DICT\n",
    "user_0={\n",
    "      'username':'abc'\n",
    "      'first_name':'robert'\n",
    "      'last_name':'brown'\n",
    "}\n",
    "print(user_0)"
   ]
  },
  {
   "cell_type": "code",
   "execution_count": 15,
   "metadata": {},
   "outputs": [
    {
     "name": "stdout",
     "output_type": "stream",
     "text": [
      "{'username': 'abc', 'first_name': 'robert', 'last_name': 'brown'}\n"
     ]
    }
   ],
   "source": [
    "user_0={\n",
    "      'username':'abc',\n",
    "      'first_name':'robert',\n",
    "      'last_name':'brown'\n",
    "}\n",
    "print(user_0)"
   ]
  },
  {
   "cell_type": "code",
   "execution_count": 17,
   "metadata": {},
   "outputs": [
    {
     "name": "stdout",
     "output_type": "stream",
     "text": [
      "\n",
      "key:username\n",
      "\n",
      "value:abc\n",
      "\n",
      "key:first_name\n",
      "\n",
      "value:robert\n",
      "\n",
      "key:last_name\n",
      "\n",
      "value:brown\n"
     ]
    }
   ],
   "source": [
    "#temp variable key,value can use any randam variable\n",
    "for key,value in user_0.items():\n",
    "    print(f\"\\nkey:{key}\")\n",
    "    print(f\"\\nvalue:{value}\")"
   ]
  },
  {
   "cell_type": "code",
   "execution_count": 18,
   "metadata": {},
   "outputs": [
    {
     "name": "stdout",
     "output_type": "stream",
     "text": [
      "\n",
      "k:username\n",
      "\n",
      "v:abc\n",
      "\n",
      "k:first_name\n",
      "\n",
      "v:robert\n",
      "\n",
      "k:last_name\n",
      "\n",
      "v:brown\n"
     ]
    }
   ],
   "source": [
    "for k,v in user_0.items():\n",
    "    print(f\"\\nk:{k}\")\n",
    "    print(f\"\\nv:{v}\")"
   ]
  },
  {
   "cell_type": "code",
   "execution_count": 19,
   "metadata": {},
   "outputs": [
    {
     "name": "stdout",
     "output_type": "stream",
     "text": [
      "username\n",
      "first_name\n",
      "last_name\n"
     ]
    }
   ],
   "source": [
    "#to print only KEYS in for loop\n",
    "for k in user_0.keys():\n",
    "    print(k)"
   ]
  },
  {
   "cell_type": "code",
   "execution_count": 20,
   "metadata": {},
   "outputs": [
    {
     "name": "stdout",
     "output_type": "stream",
     "text": [
      "abc\n",
      "robert\n",
      "brown\n"
     ]
    }
   ],
   "source": [
    "#to print only VALUES in for loop\n",
    "for v in user_0.values():\n",
    "    print(v)"
   ]
  },
  {
   "cell_type": "code",
   "execution_count": null,
   "metadata": {},
   "outputs": [],
   "source": []
  }
 ],
 "metadata": {
  "kernelspec": {
   "display_name": "Python 3",
   "language": "python",
   "name": "python3"
  },
  "language_info": {
   "codemirror_mode": {
    "name": "ipython",
    "version": 3
   },
   "file_extension": ".py",
   "mimetype": "text/x-python",
   "name": "python",
   "nbconvert_exporter": "python",
   "pygments_lexer": "ipython3",
   "version": "3.7.4"
  }
 },
 "nbformat": 4,
 "nbformat_minor": 2
}
