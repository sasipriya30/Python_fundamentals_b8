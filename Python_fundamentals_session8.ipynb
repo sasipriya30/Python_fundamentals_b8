{
 "cells": [
  {
   "cell_type": "code",
   "execution_count": 2,
   "metadata": {},
   "outputs": [
    {
     "name": "stdout",
     "output_type": "stream",
     "text": [
      "please enter your nameAnand\n",
      "\n",
      "Welcomeback,Anand!\n"
     ]
    }
   ],
   "source": [
    "#Acceoting user input\n",
    "name=input(\"please enter your name\")\n",
    "print(f\"\\nWelcomeback,{name}!\")"
   ]
  },
  {
   "cell_type": "code",
   "execution_count": 3,
   "metadata": {},
   "outputs": [
    {
     "name": "stdout",
     "output_type": "stream",
     "text": [
      "how old are you?8\n",
      "8\n"
     ]
    }
   ],
   "source": [
    "#How to accept numerical input\n",
    "age=input('how old are you?')\n",
    "print(age)"
   ]
  },
  {
   "cell_type": "code",
   "execution_count": 4,
   "metadata": {},
   "outputs": [
    {
     "ename": "TypeError",
     "evalue": "'>=' not supported between instances of 'str' and 'int'",
     "output_type": "error",
     "traceback": [
      "\u001b[1;31m---------------------------------------------------------------------------\u001b[0m",
      "\u001b[1;31mTypeError\u001b[0m                                 Traceback (most recent call last)",
      "\u001b[1;32m<ipython-input-4-d9f2f1dd26b8>\u001b[0m in \u001b[0;36m<module>\u001b[1;34m\u001b[0m\n\u001b[1;32m----> 1\u001b[1;33m \u001b[0mage\u001b[0m\u001b[1;33m>=\u001b[0m\u001b[1;36m18\u001b[0m\u001b[1;33m\u001b[0m\u001b[1;33m\u001b[0m\u001b[0m\n\u001b[0m",
      "\u001b[1;31mTypeError\u001b[0m: '>=' not supported between instances of 'str' and 'int'"
     ]
    }
   ],
   "source": [
    "age>=18"
   ]
  },
  {
   "cell_type": "code",
   "execution_count": 5,
   "metadata": {},
   "outputs": [
    {
     "data": {
      "text/plain": [
       "str"
      ]
     },
     "execution_count": 5,
     "metadata": {},
     "output_type": "execute_result"
    }
   ],
   "source": [
    "type(age)"
   ]
  },
  {
   "cell_type": "code",
   "execution_count": 8,
   "metadata": {},
   "outputs": [
    {
     "name": "stdout",
     "output_type": "stream",
     "text": [
      "how old are you?24\n",
      "24\n"
     ]
    }
   ],
   "source": [
    "#default datatype for input is considered as string\n",
    "#typecasting --- casting from str to int\n",
    "age=input('how old are you?')\n",
    "age=int(age)\n",
    "print(age)"
   ]
  },
  {
   "cell_type": "code",
   "execution_count": 9,
   "metadata": {},
   "outputs": [
    {
     "data": {
      "text/plain": [
       "True"
      ]
     },
     "execution_count": 9,
     "metadata": {},
     "output_type": "execute_result"
    }
   ],
   "source": [
    "age>=18"
   ]
  },
  {
   "cell_type": "code",
   "execution_count": 10,
   "metadata": {},
   "outputs": [
    {
     "name": "stdout",
     "output_type": "stream",
     "text": [
      "how old are you?16\n",
      "\n",
      " Try next year\n"
     ]
    }
   ],
   "source": [
    "#Creating voting application---If condition\n",
    "age=input('how old are you?')\n",
    "age=int(age)\n",
    "if age >=18:\n",
    "    print('\\n You are eligible to vote!!')\n",
    "else :\n",
    "    print('\\n Try next year')"
   ]
  },
  {
   "cell_type": "code",
   "execution_count": 11,
   "metadata": {},
   "outputs": [
    {
     "name": "stdout",
     "output_type": "stream",
     "text": [
      "how old are you?21\n",
      "\n",
      " You are eligible to vote!!\n"
     ]
    }
   ],
   "source": [
    "age=input('how old are you?')\n",
    "age=int(age)\n",
    "if age >=18:\n",
    "    print('\\n You are eligible to vote!!')\n",
    "else :\n",
    "    print('\\n Try next year')"
   ]
  },
  {
   "cell_type": "code",
   "execution_count": 12,
   "metadata": {},
   "outputs": [
    {
     "name": "stdout",
     "output_type": "stream",
     "text": [
      "enter a number,and i will tell you its even or odd3\n",
      "\n",
      "the number is odd,3\n"
     ]
    }
   ],
   "source": [
    "#Program to check whether the given number is even or odd...!!\n",
    "num=input('enter a number,and i will tell you its even or odd')\n",
    "num=int(num)\n",
    "if num%2==0 :\n",
    "    print(f\"\\nthe number is even,{num}\")\n",
    "else :\n",
    "    print(f\"\\nthe number is odd,{num}\")"
   ]
  },
  {
   "cell_type": "code",
   "execution_count": 13,
   "metadata": {},
   "outputs": [
    {
     "name": "stdout",
     "output_type": "stream",
     "text": [
      "enter a number,and i will tell you its even or odd6\n",
      "\n",
      "the number is even,6\n"
     ]
    }
   ],
   "source": [
    "#Program to check whether the given number is even or odd...!!\n",
    "num=input('enter a number,and i will tell you its even or odd')\n",
    "num=int(num)\n",
    "if num%2==0 :\n",
    "    print(f\"\\nthe number is even,{num}\")\n",
    "else :\n",
    "    print(f\"\\nthe number is odd,{num}\")"
   ]
  },
  {
   "cell_type": "code",
   "execution_count": null,
   "metadata": {},
   "outputs": [],
   "source": []
  }
 ],
 "metadata": {
  "kernelspec": {
   "display_name": "Python 3",
   "language": "python",
   "name": "python3"
  },
  "language_info": {
   "codemirror_mode": {
    "name": "ipython",
    "version": 3
   },
   "file_extension": ".py",
   "mimetype": "text/x-python",
   "name": "python",
   "nbconvert_exporter": "python",
   "pygments_lexer": "ipython3",
   "version": "3.7.4"
  }
 },
 "nbformat": 4,
 "nbformat_minor": 2
}
